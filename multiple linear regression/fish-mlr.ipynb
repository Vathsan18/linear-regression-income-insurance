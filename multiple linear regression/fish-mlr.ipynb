{
 "cells": [
  {
   "cell_type": "code",
   "execution_count": 6,
   "id": "c0dc0091-81f0-4e3a-bd86-f8789a58899d",
   "metadata": {},
   "outputs": [],
   "source": [
    "import pandas as pd\n",
    "import matplotlib.pyplot as plt\n",
    "import seaborn as sns\n",
    "from sklearn.model_selection import train_test_split\n",
    "from sklearn.linear_model import LinearRegression\n",
    "from sklearn.metrics import mean_absolute_error, mean_squared_error, r2_score"
   ]
  },
  {
   "cell_type": "markdown",
   "id": "9df86609-a596-4162-9ae9-1d1c80f2a9e7",
   "metadata": {},
   "source": [
    "## Import and preprocess the dataset"
   ]
  },
  {
   "cell_type": "code",
   "execution_count": 3,
   "id": "22e93356-92b1-4f43-b16d-a409f0e564db",
   "metadata": {},
   "outputs": [
    {
     "data": {
      "text/html": [
       "<div>\n",
       "<style scoped>\n",
       "    .dataframe tbody tr th:only-of-type {\n",
       "        vertical-align: middle;\n",
       "    }\n",
       "\n",
       "    .dataframe tbody tr th {\n",
       "        vertical-align: top;\n",
       "    }\n",
       "\n",
       "    .dataframe thead th {\n",
       "        text-align: right;\n",
       "    }\n",
       "</style>\n",
       "<table border=\"1\" class=\"dataframe\">\n",
       "  <thead>\n",
       "    <tr style=\"text-align: right;\">\n",
       "      <th></th>\n",
       "      <th>Species</th>\n",
       "      <th>Weight</th>\n",
       "      <th>Length1</th>\n",
       "      <th>Length2</th>\n",
       "      <th>Length3</th>\n",
       "      <th>Height</th>\n",
       "      <th>Width</th>\n",
       "    </tr>\n",
       "  </thead>\n",
       "  <tbody>\n",
       "    <tr>\n",
       "      <th>0</th>\n",
       "      <td>Bream</td>\n",
       "      <td>242.0</td>\n",
       "      <td>23.2</td>\n",
       "      <td>25.4</td>\n",
       "      <td>30.0</td>\n",
       "      <td>11.5200</td>\n",
       "      <td>4.0200</td>\n",
       "    </tr>\n",
       "    <tr>\n",
       "      <th>1</th>\n",
       "      <td>Bream</td>\n",
       "      <td>290.0</td>\n",
       "      <td>24.0</td>\n",
       "      <td>26.3</td>\n",
       "      <td>31.2</td>\n",
       "      <td>12.4800</td>\n",
       "      <td>4.3056</td>\n",
       "    </tr>\n",
       "    <tr>\n",
       "      <th>2</th>\n",
       "      <td>Bream</td>\n",
       "      <td>340.0</td>\n",
       "      <td>23.9</td>\n",
       "      <td>26.5</td>\n",
       "      <td>31.1</td>\n",
       "      <td>12.3778</td>\n",
       "      <td>4.6961</td>\n",
       "    </tr>\n",
       "    <tr>\n",
       "      <th>3</th>\n",
       "      <td>Bream</td>\n",
       "      <td>363.0</td>\n",
       "      <td>26.3</td>\n",
       "      <td>29.0</td>\n",
       "      <td>33.5</td>\n",
       "      <td>12.7300</td>\n",
       "      <td>4.4555</td>\n",
       "    </tr>\n",
       "    <tr>\n",
       "      <th>4</th>\n",
       "      <td>Bream</td>\n",
       "      <td>430.0</td>\n",
       "      <td>26.5</td>\n",
       "      <td>29.0</td>\n",
       "      <td>34.0</td>\n",
       "      <td>12.4440</td>\n",
       "      <td>5.1340</td>\n",
       "    </tr>\n",
       "    <tr>\n",
       "      <th>...</th>\n",
       "      <td>...</td>\n",
       "      <td>...</td>\n",
       "      <td>...</td>\n",
       "      <td>...</td>\n",
       "      <td>...</td>\n",
       "      <td>...</td>\n",
       "      <td>...</td>\n",
       "    </tr>\n",
       "    <tr>\n",
       "      <th>154</th>\n",
       "      <td>Smelt</td>\n",
       "      <td>12.2</td>\n",
       "      <td>11.5</td>\n",
       "      <td>12.2</td>\n",
       "      <td>13.4</td>\n",
       "      <td>2.0904</td>\n",
       "      <td>1.3936</td>\n",
       "    </tr>\n",
       "    <tr>\n",
       "      <th>155</th>\n",
       "      <td>Smelt</td>\n",
       "      <td>13.4</td>\n",
       "      <td>11.7</td>\n",
       "      <td>12.4</td>\n",
       "      <td>13.5</td>\n",
       "      <td>2.4300</td>\n",
       "      <td>1.2690</td>\n",
       "    </tr>\n",
       "    <tr>\n",
       "      <th>156</th>\n",
       "      <td>Smelt</td>\n",
       "      <td>12.2</td>\n",
       "      <td>12.1</td>\n",
       "      <td>13.0</td>\n",
       "      <td>13.8</td>\n",
       "      <td>2.2770</td>\n",
       "      <td>1.2558</td>\n",
       "    </tr>\n",
       "    <tr>\n",
       "      <th>157</th>\n",
       "      <td>Smelt</td>\n",
       "      <td>19.7</td>\n",
       "      <td>13.2</td>\n",
       "      <td>14.3</td>\n",
       "      <td>15.2</td>\n",
       "      <td>2.8728</td>\n",
       "      <td>2.0672</td>\n",
       "    </tr>\n",
       "    <tr>\n",
       "      <th>158</th>\n",
       "      <td>Smelt</td>\n",
       "      <td>19.9</td>\n",
       "      <td>13.8</td>\n",
       "      <td>15.0</td>\n",
       "      <td>16.2</td>\n",
       "      <td>2.9322</td>\n",
       "      <td>1.8792</td>\n",
       "    </tr>\n",
       "  </tbody>\n",
       "</table>\n",
       "<p>159 rows × 7 columns</p>\n",
       "</div>"
      ],
      "text/plain": [
       "    Species  Weight  Length1  Length2  Length3   Height   Width\n",
       "0     Bream   242.0     23.2     25.4     30.0  11.5200  4.0200\n",
       "1     Bream   290.0     24.0     26.3     31.2  12.4800  4.3056\n",
       "2     Bream   340.0     23.9     26.5     31.1  12.3778  4.6961\n",
       "3     Bream   363.0     26.3     29.0     33.5  12.7300  4.4555\n",
       "4     Bream   430.0     26.5     29.0     34.0  12.4440  5.1340\n",
       "..      ...     ...      ...      ...      ...      ...     ...\n",
       "154   Smelt    12.2     11.5     12.2     13.4   2.0904  1.3936\n",
       "155   Smelt    13.4     11.7     12.4     13.5   2.4300  1.2690\n",
       "156   Smelt    12.2     12.1     13.0     13.8   2.2770  1.2558\n",
       "157   Smelt    19.7     13.2     14.3     15.2   2.8728  2.0672\n",
       "158   Smelt    19.9     13.8     15.0     16.2   2.9322  1.8792\n",
       "\n",
       "[159 rows x 7 columns]"
      ]
     },
     "execution_count": 3,
     "metadata": {},
     "output_type": "execute_result"
    }
   ],
   "source": [
    "df = pd.read_csv(r\"C:\\Extras\\Programs\\My Projects\\income simple linear regression\\datasets\\Fish.csv\")\n",
    "df"
   ]
  },
  {
   "cell_type": "code",
   "execution_count": 9,
   "id": "0e143108-67bb-4054-8740-3a7fa0474267",
   "metadata": {},
   "outputs": [
    {
     "data": {
      "text/plain": [
       "(     Length1  Length2  Length3   Height   Width\n",
       " 0       23.2     25.4     30.0  11.5200  4.0200\n",
       " 1       24.0     26.3     31.2  12.4800  4.3056\n",
       " 2       23.9     26.5     31.1  12.3778  4.6961\n",
       " 3       26.3     29.0     33.5  12.7300  4.4555\n",
       " 4       26.5     29.0     34.0  12.4440  5.1340\n",
       " ..       ...      ...      ...      ...     ...\n",
       " 154     11.5     12.2     13.4   2.0904  1.3936\n",
       " 155     11.7     12.4     13.5   2.4300  1.2690\n",
       " 156     12.1     13.0     13.8   2.2770  1.2558\n",
       " 157     13.2     14.3     15.2   2.8728  2.0672\n",
       " 158     13.8     15.0     16.2   2.9322  1.8792\n",
       " \n",
       " [159 rows x 5 columns],\n",
       " 0      242.0\n",
       " 1      290.0\n",
       " 2      340.0\n",
       " 3      363.0\n",
       " 4      430.0\n",
       "        ...  \n",
       " 154     12.2\n",
       " 155     13.4\n",
       " 156     12.2\n",
       " 157     19.7\n",
       " 158     19.9\n",
       " Name: Weight, Length: 159, dtype: float64)"
      ]
     },
     "execution_count": 9,
     "metadata": {},
     "output_type": "execute_result"
    }
   ],
   "source": [
    "df_cleaned = df.drop(columns=['Species'])\n",
    "df_cleaned = df_cleaned.dropna()\n",
    "\n",
    "x = df_cleaned.drop(columns=['Weight'])\n",
    "y = df_cleaned['Weight']\n",
    "x,y"
   ]
  },
  {
   "cell_type": "markdown",
   "id": "1ab748d8-df35-40b7-9030-7e16ad426f68",
   "metadata": {},
   "source": [
    "## Split data into train-test sets"
   ]
  },
  {
   "cell_type": "code",
   "execution_count": 10,
   "id": "9942b8a6-3470-4a3d-912e-385b5145ea9e",
   "metadata": {},
   "outputs": [
    {
     "name": "stdout",
     "output_type": "stream",
     "text": [
      "x_tr shape: (127, 5)\n",
      "x_ts shape: (32, 5)\n",
      "y_tr shape: (127,)\n",
      "y_ts shape: (32,)\n"
     ]
    },
    {
     "data": {
      "text/plain": [
       "(     Length1  Length2  Length3   Height   Width\n",
       " 75      15.0     16.2     17.2   4.5924  2.6316\n",
       " 138     43.2     46.0     48.7   7.7920  4.8700\n",
       " 2       23.9     26.5     31.1  12.3778  4.6961\n",
       " 86      20.0     22.0     23.5   6.1100  3.4075\n",
       " 45      20.5     22.5     25.3   7.0334  3.8203\n",
       " ..       ...      ...      ...      ...     ...\n",
       " 71      24.0     26.0     29.0  11.3680  4.2340\n",
       " 106     25.9     28.0     29.4   7.8204  4.2042\n",
       " 14      29.4     32.0     37.2  14.9544  5.1708\n",
       " 92      20.5     22.5     24.0   6.7920  3.6240\n",
       " 102     25.2     27.3     28.7   8.3230  5.1373\n",
       " \n",
       " [127 rows x 5 columns],\n",
       "      Length1  Length2  Length3   Height   Width\n",
       " 78      16.8     18.7     19.4   5.1992  3.1234\n",
       " 155     11.7     12.4     13.5   2.4300  1.2690\n",
       " 128     30.0     32.3     34.8   5.5680  3.3756\n",
       " 55      23.6     26.0     28.7   8.3804  4.2476\n",
       " 94      21.0     23.0     24.5   5.2185  3.6260\n",
       " 29      33.5     37.0     42.6  18.9570  6.6030\n",
       " 147     10.1     10.6     11.6   1.7284  1.1484\n",
       " 51      23.6     25.2     27.9   7.0866  3.9060\n",
       " 98      22.6     24.6     26.2   6.7334  4.1658\n",
       " 141     52.0     56.0     59.7  10.6863  6.9849\n",
       " 19      31.0     33.5     38.7  14.4738  5.7276\n",
       " 60      37.3     40.0     43.5  12.3540  6.5250\n",
       " 15      29.4     32.0     37.2  15.4380  5.5800\n",
       " 65      18.4     20.0     22.4   8.8928  3.2928\n",
       " 24      31.9     35.0     40.5  16.2405  5.5890\n",
       " 30      35.0     38.5     44.1  18.0369  6.3063\n",
       " 126     40.2     43.5     46.0  12.6040  8.1420\n",
       " 101     25.0     26.5     28.0   7.1680  4.1440\n",
       " 96      22.0     24.0     25.5   7.2930  3.7230\n",
       " 16      30.4     33.0     38.3  14.8604  5.2854\n",
       " 151     11.3     11.8     13.1   2.2139  1.2838\n",
       " 18      30.9     33.5     38.6  15.6330  5.1338\n",
       " 12      29.1     31.5     36.4  13.7592  4.3680\n",
       " 9       28.5     30.7     36.2  14.2266  4.9594\n",
       " 31      35.0     38.5     44.0  18.0840  6.2920\n",
       " 125     40.1     43.0     45.5  12.5125  7.4165\n",
       " 95      21.5     23.5     25.0   6.2750  3.7250\n",
       " 56      24.1     26.5     29.3   8.1454  4.2485\n",
       " 145      9.3      9.8     10.8   1.7388  1.0476\n",
       " 152     11.3     11.8     13.1   2.2139  1.1659\n",
       " 135     40.0     42.5     45.5   6.8250  4.4590\n",
       " 76      15.7     17.4     18.5   4.5880  2.9415,\n",
       " 75      51.5\n",
       " 138    567.0\n",
       " 2      340.0\n",
       " 86     120.0\n",
       " 45     160.0\n",
       "        ...  \n",
       " 71     300.0\n",
       " 106    250.0\n",
       " 14     600.0\n",
       " 92     150.0\n",
       " 102    300.0\n",
       " Name: Weight, Length: 127, dtype: float64,\n",
       " 78       78.0\n",
       " 155      13.4\n",
       " 128     200.0\n",
       " 55      270.0\n",
       " 94      150.0\n",
       " 29     1000.0\n",
       " 147       7.0\n",
       " 51      180.0\n",
       " 98      188.0\n",
       " 141    1250.0\n",
       " 19      650.0\n",
       " 60     1000.0\n",
       " 15      600.0\n",
       " 65      150.0\n",
       " 24      700.0\n",
       " 30      920.0\n",
       " 126    1000.0\n",
       " 101     218.0\n",
       " 96      225.0\n",
       " 16      700.0\n",
       " 151      10.0\n",
       " 18      610.0\n",
       " 12      500.0\n",
       " 9       500.0\n",
       " 31      955.0\n",
       " 125    1100.0\n",
       " 95      170.0\n",
       " 56      270.0\n",
       " 145       6.7\n",
       " 152       9.9\n",
       " 135     510.0\n",
       " 76       70.0\n",
       " Name: Weight, dtype: float64)"
      ]
     },
     "execution_count": 10,
     "metadata": {},
     "output_type": "execute_result"
    }
   ],
   "source": [
    "x_tr, x_ts, y_tr, y_ts = train_test_split(X, y, test_size=0.2, random_state=42)\n",
    "\n",
    "# Check the shapes\n",
    "print(f\"x_tr shape: {x_tr.shape}\")\n",
    "print(f\"x_ts shape: {x_ts.shape}\")\n",
    "print(f\"y_tr shape: {y_tr.shape}\")\n",
    "print(f\"y_ts shape: {y_ts.shape}\")\n",
    "\n",
    "x_tr, x_ts, y_tr, y_ts"
   ]
  },
  {
   "cell_type": "markdown",
   "id": "235254b7-a1ea-4ab1-a1a1-699b655500fe",
   "metadata": {},
   "source": [
    "## Fit a Linear Regression model"
   ]
  },
  {
   "cell_type": "code",
   "execution_count": 11,
   "id": "5c7b895f-5174-44e1-92e4-9a85df3c3a11",
   "metadata": {},
   "outputs": [
    {
     "name": "stdout",
     "output_type": "stream",
     "text": [
      "Intercept: -515.3056513384324\n",
      "Coefficients: [ 43.5352649    7.82179624 -25.25670105  23.2289123   27.06649294]\n",
      "\n",
      "Coefficient Table:\n",
      "    Feature  Coefficient\n",
      "0  Length1    43.535265\n",
      "1  Length2     7.821796\n",
      "2  Length3   -25.256701\n",
      "3   Height    23.228912\n",
      "4    Width    27.066493\n"
     ]
    }
   ],
   "source": [
    "model = LinearRegression()\n",
    "model.fit(x_tr, y_tr)\n",
    "\n",
    "print(\"Intercept:\", model.intercept_)\n",
    "print(\"Coefficients:\", model.coef_)\n",
    "\n",
    "# Match coefficients to feature names\n",
    "coef_table = pd.DataFrame({\n",
    "    'Feature': x_tr.columns,\n",
    "    'Coefficient': model.coef_\n",
    "})\n",
    "print(\"\\nCoefficient Table:\\n\", coef_table)"
   ]
  },
  {
   "cell_type": "markdown",
   "id": "7c885efd-7f7a-4d55-bf3d-e384f71915f4",
   "metadata": {},
   "source": [
    "## Evaluate model using MAE, MSE, R²"
   ]
  },
  {
   "cell_type": "code",
   "execution_count": 12,
   "id": "031c9758-fd8c-4322-941f-0fab2c22ffcb",
   "metadata": {},
   "outputs": [
    {
     "name": "stdout",
     "output_type": "stream",
     "text": [
      "Mean Absolute Error (MAE): 103.91\n",
      "Mean Squared Error (MSE): 16763.89\n",
      "R² Score: 0.8821\n"
     ]
    }
   ],
   "source": [
    "y_pr = model.predict(x_ts)\n",
    "\n",
    "mae = mean_absolute_error(y_ts, y_pr)\n",
    "mse = mean_squared_error(y_ts, y_pr)\n",
    "r2 = r2_score(y_ts, y_pr)\n",
    "\n",
    "# Display results\n",
    "print(f\"Mean Absolute Error (MAE): {mae:.2f}\")\n",
    "print(f\"Mean Squared Error (MSE): {mse:.2f}\")\n",
    "print(f\"R² Score: {r2:.4f}\")"
   ]
  },
  {
   "cell_type": "markdown",
   "id": "d0bc237c-0a08-45a1-a51c-ab1f59a13494",
   "metadata": {},
   "source": [
    "## Plot regression line and interpret coefficients"
   ]
  },
  {
   "cell_type": "code",
   "execution_count": 13,
   "id": "e58b0e58-78f7-45eb-b0d5-6be2afef70ce",
   "metadata": {},
   "outputs": [
    {
     "data": {
      "image/png": "[encoded data removed]",
      "text/plain": [
       "<Figure size 1200x500 with 1 Axes>"
      ]
     },
     "metadata": {},
     "output_type": "display_data"
    }
   ],
   "source": [
    "plt.figure(figsize=(12, 5))\n",
    "sns.scatterplot(x=y_ts, y=y_pr)\n",
    "plt.xlabel(\"Actual Weight\")\n",
    "plt.ylabel(\"Predicted Weight\")\n",
    "plt.title(\"Actual vs Predicted Fish Weights\")\n",
    "plt.plot([y_ts.min(), y_ts.max()], [y_ts.min(), y_ts.max()], color='red', linestyle='--', label='Ideal Fit')\n",
    "plt.legend()\n",
    "plt.grid(True)\n",
    "plt.show()"
   ]
  }
 ],
 "metadata": {
  "kernelspec": {
   "display_name": "Python 3 (ipykernel)",
   "language": "python",
   "name": "python3"
  },
  "language_info": {
   "codemirror_mode": {
    "name": "ipython",
    "version": 3
   },
   "file_extension": ".py",
   "mimetype": "text/x-python",
   "name": "python",
   "nbconvert_exporter": "python",
   "pygments_lexer": "ipython3",
   "version": "3.12.4"
  }
 },
 "nbformat": 4,
 "nbformat_minor": 5
}
